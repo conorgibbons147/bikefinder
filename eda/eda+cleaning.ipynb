{
 "cells": [
  {
   "cell_type": "code",
   "execution_count": 168,
   "id": "7c687d89",
   "metadata": {},
   "outputs": [],
   "source": [
    "import pandas as pd\n",
    "import numpy as np\n",
    "import matplotlib as plt\n",
    "import seaborn as sns"
   ]
  },
  {
   "cell_type": "code",
   "execution_count": 169,
   "id": "04288721",
   "metadata": {},
   "outputs": [],
   "source": [
    "data = pd.read_csv('../data/data.csv', sep=';')\n",
    "df = pd.DataFrame(data)"
   ]
  },
  {
   "cell_type": "code",
   "execution_count": 170,
   "id": "1c336300",
   "metadata": {},
   "outputs": [],
   "source": [
    "# drop bikes made before 2022, only recommend more modern bikes\n",
    "df['Year'] = df['Year'].astype(int)\n",
    "df = df[df['Year'] >= 2022]"
   ]
  },
  {
   "cell_type": "code",
   "execution_count": 171,
   "id": "a9867458",
   "metadata": {},
   "outputs": [
    {
     "name": "stdout",
     "output_type": "stream",
     "text": [
      "['Road' 'Gravel/CX' 'Mountain' 'Other']\n"
     ]
    }
   ],
   "source": [
    "# only include mountain bikes\n",
    "print(df['Category'].unique())\n",
    "df = df[df['Category'] == 'Mountain']"
   ]
  },
  {
   "cell_type": "code",
   "execution_count": 172,
   "id": "23c3416e",
   "metadata": {},
   "outputs": [
    {
     "name": "stdout",
     "output_type": "stream",
     "text": [
      "                            NaN Count  NaN Percent\n",
      "Fork Trail                       2517    90.735400\n",
      "Front Center                     2487    89.653929\n",
      "Top Tube Length                  2025    72.999279\n",
      "Fork Installation Height         1865    67.231435\n",
      "Seat Tube Angle Real             1801    64.924297\n",
      "Frame Config                     1510    54.434030\n",
      "Bottom Bracket Height            1436    51.766402\n",
      "Fork Offset                      1305    47.043980\n",
      "Standover Height                  940    33.886085\n",
      "Top Tube Length Horizontal        810    29.199712\n",
      "Suspension Travel (rear)          432    15.573180\n",
      "Seat Tube Angle Effective         329    11.860130\n",
      "Bottom Bracket Offset             307    11.067051\n",
      "Suspension Travel (front)         165     5.948089\n",
      "Seat Tube Length                  109     3.929344\n",
      "Head Tube Length                   51     1.838500\n",
      "Wheelbase                          50     1.802451\n",
      "STR                                32     1.153569\n",
      "Stack                              32     1.153569\n",
      "Chainstay Length                    8     0.288392\n",
      "Head Tube Angle                     3     0.108147\n",
      "Reach                               1     0.036049\n",
      "Frame Size                          0     0.000000\n",
      "Wheel Size                          0     0.000000\n",
      "URL                                 0     0.000000\n",
      "Brand                               0     0.000000\n",
      "Model                               0     0.000000\n",
      "Year                                0     0.000000\n",
      "Category                            0     0.000000\n",
      "Motorized                           0     0.000000\n"
     ]
    }
   ],
   "source": [
    "# count and get percent for the nans in each column\n",
    "nan_counts = df.isna().sum()\n",
    "nan_percent = (df.isna().sum() / len(df)) * 100\n",
    "\n",
    "# make this into a df\n",
    "missing_df = pd.DataFrame({\n",
    "    'NaN Count': nan_counts,\n",
    "    'NaN Percent': nan_percent\n",
    "}).sort_values(by='NaN Percent', ascending=False)\n",
    "\n",
    "print(missing_df)\n"
   ]
  },
  {
   "cell_type": "code",
   "execution_count": 173,
   "id": "7c4db064",
   "metadata": {},
   "outputs": [
    {
     "data": {
      "text/html": [
       "<div>\n",
       "<style scoped>\n",
       "    .dataframe tbody tr th:only-of-type {\n",
       "        vertical-align: middle;\n",
       "    }\n",
       "\n",
       "    .dataframe tbody tr th {\n",
       "        vertical-align: top;\n",
       "    }\n",
       "\n",
       "    .dataframe thead th {\n",
       "        text-align: right;\n",
       "    }\n",
       "</style>\n",
       "<table border=\"1\" class=\"dataframe\">\n",
       "  <thead>\n",
       "    <tr style=\"text-align: right;\">\n",
       "      <th></th>\n",
       "      <th>URL</th>\n",
       "      <th>Brand</th>\n",
       "      <th>Model</th>\n",
       "      <th>Year</th>\n",
       "      <th>Category</th>\n",
       "      <th>Motorized</th>\n",
       "      <th>Frame Size</th>\n",
       "      <th>Wheel Size</th>\n",
       "      <th>Reach</th>\n",
       "      <th>Stack</th>\n",
       "      <th>...</th>\n",
       "      <th>Seat Tube Angle Effective</th>\n",
       "      <th>Top Tube Length Horizontal</th>\n",
       "      <th>Head Tube Length</th>\n",
       "      <th>Seat Tube Length</th>\n",
       "      <th>Standover Height</th>\n",
       "      <th>Chainstay Length</th>\n",
       "      <th>Wheelbase</th>\n",
       "      <th>Bottom Bracket Offset</th>\n",
       "      <th>Suspension Travel (rear)</th>\n",
       "      <th>Suspension Travel (front)</th>\n",
       "    </tr>\n",
       "  </thead>\n",
       "  <tbody>\n",
       "    <tr>\n",
       "      <th>33</th>\n",
       "      <td>https://geometrics.mtb-news.de/bike/actofive-i...</td>\n",
       "      <td>Actofive</td>\n",
       "      <td>I-Train</td>\n",
       "      <td>2023</td>\n",
       "      <td>Mountain</td>\n",
       "      <td>False</td>\n",
       "      <td>S1</td>\n",
       "      <td>29″</td>\n",
       "      <td>450.0</td>\n",
       "      <td>613.0</td>\n",
       "      <td>...</td>\n",
       "      <td>77.3</td>\n",
       "      <td>591.0</td>\n",
       "      <td>100.0</td>\n",
       "      <td>390.0</td>\n",
       "      <td>NaN</td>\n",
       "      <td>437.0</td>\n",
       "      <td>1199.0</td>\n",
       "      <td>26.0</td>\n",
       "      <td>NaN</td>\n",
       "      <td>NaN</td>\n",
       "    </tr>\n",
       "    <tr>\n",
       "      <th>34</th>\n",
       "      <td>https://geometrics.mtb-news.de/bike/actofive-i...</td>\n",
       "      <td>Actofive</td>\n",
       "      <td>I-Train</td>\n",
       "      <td>2023</td>\n",
       "      <td>Mountain</td>\n",
       "      <td>False</td>\n",
       "      <td>S1</td>\n",
       "      <td>29″</td>\n",
       "      <td>450.0</td>\n",
       "      <td>613.0</td>\n",
       "      <td>...</td>\n",
       "      <td>76.7</td>\n",
       "      <td>591.0</td>\n",
       "      <td>100.0</td>\n",
       "      <td>390.0</td>\n",
       "      <td>NaN</td>\n",
       "      <td>437.0</td>\n",
       "      <td>1199.0</td>\n",
       "      <td>33.0</td>\n",
       "      <td>NaN</td>\n",
       "      <td>NaN</td>\n",
       "    </tr>\n",
       "    <tr>\n",
       "      <th>35</th>\n",
       "      <td>https://geometrics.mtb-news.de/bike/actofive-i...</td>\n",
       "      <td>Actofive</td>\n",
       "      <td>I-Train</td>\n",
       "      <td>2023</td>\n",
       "      <td>Mountain</td>\n",
       "      <td>False</td>\n",
       "      <td>S1</td>\n",
       "      <td>29″</td>\n",
       "      <td>450.0</td>\n",
       "      <td>613.0</td>\n",
       "      <td>...</td>\n",
       "      <td>77.0</td>\n",
       "      <td>591.0</td>\n",
       "      <td>100.0</td>\n",
       "      <td>390.0</td>\n",
       "      <td>NaN</td>\n",
       "      <td>437.0</td>\n",
       "      <td>1199.0</td>\n",
       "      <td>29.0</td>\n",
       "      <td>NaN</td>\n",
       "      <td>NaN</td>\n",
       "    </tr>\n",
       "    <tr>\n",
       "      <th>36</th>\n",
       "      <td>https://geometrics.mtb-news.de/bike/actofive-i...</td>\n",
       "      <td>Actofive</td>\n",
       "      <td>I-Train</td>\n",
       "      <td>2023</td>\n",
       "      <td>Mountain</td>\n",
       "      <td>False</td>\n",
       "      <td>S2</td>\n",
       "      <td>29″</td>\n",
       "      <td>470.0</td>\n",
       "      <td>622.0</td>\n",
       "      <td>...</td>\n",
       "      <td>77.3</td>\n",
       "      <td>611.0</td>\n",
       "      <td>110.0</td>\n",
       "      <td>420.0</td>\n",
       "      <td>NaN</td>\n",
       "      <td>437.0</td>\n",
       "      <td>1219.0</td>\n",
       "      <td>26.0</td>\n",
       "      <td>NaN</td>\n",
       "      <td>NaN</td>\n",
       "    </tr>\n",
       "    <tr>\n",
       "      <th>37</th>\n",
       "      <td>https://geometrics.mtb-news.de/bike/actofive-i...</td>\n",
       "      <td>Actofive</td>\n",
       "      <td>I-Train</td>\n",
       "      <td>2023</td>\n",
       "      <td>Mountain</td>\n",
       "      <td>False</td>\n",
       "      <td>S2</td>\n",
       "      <td>29″</td>\n",
       "      <td>470.0</td>\n",
       "      <td>622.0</td>\n",
       "      <td>...</td>\n",
       "      <td>76.7</td>\n",
       "      <td>611.0</td>\n",
       "      <td>110.0</td>\n",
       "      <td>420.0</td>\n",
       "      <td>NaN</td>\n",
       "      <td>437.0</td>\n",
       "      <td>1219.0</td>\n",
       "      <td>33.0</td>\n",
       "      <td>NaN</td>\n",
       "      <td>NaN</td>\n",
       "    </tr>\n",
       "  </tbody>\n",
       "</table>\n",
       "<p>5 rows × 22 columns</p>\n",
       "</div>"
      ],
      "text/plain": [
       "                                                  URL     Brand    Model  \\\n",
       "33  https://geometrics.mtb-news.de/bike/actofive-i...  Actofive  I-Train   \n",
       "34  https://geometrics.mtb-news.de/bike/actofive-i...  Actofive  I-Train   \n",
       "35  https://geometrics.mtb-news.de/bike/actofive-i...  Actofive  I-Train   \n",
       "36  https://geometrics.mtb-news.de/bike/actofive-i...  Actofive  I-Train   \n",
       "37  https://geometrics.mtb-news.de/bike/actofive-i...  Actofive  I-Train   \n",
       "\n",
       "    Year  Category  Motorized Frame Size Wheel Size  Reach  Stack  ...  \\\n",
       "33  2023  Mountain      False         S1        29″  450.0  613.0  ...   \n",
       "34  2023  Mountain      False         S1        29″  450.0  613.0  ...   \n",
       "35  2023  Mountain      False         S1        29″  450.0  613.0  ...   \n",
       "36  2023  Mountain      False         S2        29″  470.0  622.0  ...   \n",
       "37  2023  Mountain      False         S2        29″  470.0  622.0  ...   \n",
       "\n",
       "    Seat Tube Angle Effective  Top Tube Length Horizontal  Head Tube Length  \\\n",
       "33                       77.3                       591.0             100.0   \n",
       "34                       76.7                       591.0             100.0   \n",
       "35                       77.0                       591.0             100.0   \n",
       "36                       77.3                       611.0             110.0   \n",
       "37                       76.7                       611.0             110.0   \n",
       "\n",
       "    Seat Tube Length  Standover Height  Chainstay Length  Wheelbase  \\\n",
       "33             390.0               NaN             437.0     1199.0   \n",
       "34             390.0               NaN             437.0     1199.0   \n",
       "35             390.0               NaN             437.0     1199.0   \n",
       "36             420.0               NaN             437.0     1219.0   \n",
       "37             420.0               NaN             437.0     1219.0   \n",
       "\n",
       "    Bottom Bracket Offset  Suspension Travel (rear)  Suspension Travel (front)  \n",
       "33                   26.0                       NaN                        NaN  \n",
       "34                   33.0                       NaN                        NaN  \n",
       "35                   29.0                       NaN                        NaN  \n",
       "36                   26.0                       NaN                        NaN  \n",
       "37                   33.0                       NaN                        NaN  \n",
       "\n",
       "[5 rows x 22 columns]"
      ]
     },
     "execution_count": 173,
     "metadata": {},
     "output_type": "execute_result"
    }
   ],
   "source": [
    "# drop columns with percent more than 35%\n",
    "drop_list = [\n",
    "    \"Fork Trail\",\n",
    "    \"Front Center\",\n",
    "    \"Top Tube Length\",\n",
    "    \"Fork Installation Height\",\n",
    "    \"Seat Tube Angle Real\",\n",
    "    \"Frame Config\",\n",
    "    \"Bottom Bracket Height\",\n",
    "    \"Fork Offset\"\n",
    "]\n",
    "df = df.drop(columns=drop_list)\n",
    "df.head()"
   ]
  },
  {
   "cell_type": "code",
   "execution_count": 174,
   "id": "b9a586b9",
   "metadata": {},
   "outputs": [
    {
     "name": "stdout",
     "output_type": "stream",
     "text": [
      "Wheel Size\n",
      "29″               1843\n",
      "Mullet 29/27,5     640\n",
      "27,5″ / 650B       224\n",
      "26″                 27\n",
      "24″                 16\n",
      "andere              12\n",
      "20″                  9\n",
      "Mullet 27,5/26       3\n",
      "Name: count, dtype: int64\n"
     ]
    }
   ],
   "source": [
    "pd.set_option('display.max_rows', None)  # show all rows\n",
    "print(df['Wheel Size'].value_counts())"
   ]
  },
  {
   "cell_type": "code",
   "execution_count": 175,
   "id": "a8c19c09",
   "metadata": {},
   "outputs": [
    {
     "name": "stdout",
     "output_type": "stream",
     "text": [
      "Wheel Size\n",
      "29        1843\n",
      "Mullet     640\n",
      "27.5       224\n",
      "26          27\n",
      "Name: count, dtype: int64\n"
     ]
    }
   ],
   "source": [
    "# drop rows that aren't 29\", 27.5\", 26\", or Mullet 29/27.5 since these are the most common and practical sizes for modern bikes, I wouldn't recommend a bike that isn't one of these\n",
    "df = df[df['Wheel Size'].isin(['29″', 'Mullet 29/27,5', '27,5″ / 650B', '26″', ])].reset_index(drop=True)\n",
    "\n",
    "# also rename sizes\n",
    "df['Wheel Size'] = df['Wheel Size'].replace({\n",
    "    '29″': '29',\n",
    "    '27,5″ / 650B': '27.5',\n",
    "    'Mullet 29/27,5': 'Mullet',\n",
    "    '26″': '26'\n",
    "})\n",
    "\n",
    "print(df['Wheel Size'].value_counts())"
   ]
  },
  {
   "cell_type": "code",
   "execution_count": 176,
   "id": "080f9f06",
   "metadata": {},
   "outputs": [],
   "source": [
    "# fill rear suspension travel nans with 0, assuming these bikes are hardtails\n",
    "df['Suspension Travel (rear)'] = df['Suspension Travel (rear)'].fillna(0.0)"
   ]
  },
  {
   "cell_type": "code",
   "execution_count": 177,
   "id": "cd6da0c3",
   "metadata": {},
   "outputs": [],
   "source": [
    "df['Motorized'].unique()\n",
    "df['Motorized'] = df['Motorized'].astype(int)\n",
    "# set motorized column to int"
   ]
  },
  {
   "cell_type": "code",
   "execution_count": 178,
   "id": "a32204fc",
   "metadata": {},
   "outputs": [
    {
     "name": "stdout",
     "output_type": "stream",
     "text": [
      "                            NaN Count  NaN Percent\n",
      "Standover Height                  927    33.906364\n",
      "Top Tube Length Horizontal        803    29.370885\n",
      "Seat Tube Angle Effective         327    11.960497\n",
      "Bottom Bracket Offset             305    11.155816\n",
      "Suspension Travel (front)         139     5.084126\n",
      "Seat Tube Length                  105     3.840527\n",
      "Wheelbase                          49     1.792246\n",
      "Head Tube Length                   48     1.755669\n",
      "STR                                32     1.170446\n",
      "Stack                              32     1.170446\n",
      "Chainstay Length                    5     0.182882\n",
      "Head Tube Angle                     3     0.109729\n",
      "Reach                               1     0.036576\n",
      "URL                                 0     0.000000\n",
      "Motorized                           0     0.000000\n",
      "Category                            0     0.000000\n",
      "Year                                0     0.000000\n",
      "Model                               0     0.000000\n",
      "Brand                               0     0.000000\n",
      "Frame Size                          0     0.000000\n",
      "Wheel Size                          0     0.000000\n",
      "Suspension Travel (rear)            0     0.000000\n"
     ]
    }
   ],
   "source": [
    "# count and get percent for the nans in each column\n",
    "nan_counts = df.isna().sum()\n",
    "nan_percent = (df.isna().sum() / len(df)) * 100\n",
    "\n",
    "# make this into a df\n",
    "missing_df = pd.DataFrame({\n",
    "    'NaN Count': nan_counts,\n",
    "    'NaN Percent': nan_percent\n",
    "}).sort_values(by='NaN Percent', ascending=False)\n",
    "\n",
    "print(missing_df)\n"
   ]
  },
  {
   "cell_type": "code",
   "execution_count": 179,
   "id": "4841b4cc",
   "metadata": {},
   "outputs": [],
   "source": [
    "# drop 2 more columns with many nan values\n",
    "drop_list = [\n",
    "    \"Standover Height\",\n",
    "    \"Top Tube Length Horizontal\"\n",
    "]\n",
    "df = df.drop(columns=drop_list)"
   ]
  },
  {
   "cell_type": "code",
   "execution_count": 180,
   "id": "cc258043",
   "metadata": {},
   "outputs": [],
   "source": [
    "# keep only sizes that appear 3 or more times\n",
    "df = df[df['Frame Size'].isin(df['Frame Size'].value_counts()[df['Frame Size'].value_counts() >= 3].index)]"
   ]
  },
  {
   "cell_type": "code",
   "execution_count": null,
   "id": "1ae85129",
   "metadata": {},
   "outputs": [],
   "source": [
    "# clean sizes to standardize them\n",
    "df['Frame Size'] = df['Frame Size'].replace({\n",
    "    'S1': 'XS',\n",
    "    'S2': 'S',\n",
    "    'S3': 'M',\n",
    "    'S4': 'L',\n",
    "    'S5': 'XL',\n",
    "    'S6': 'XXL',\n",
    "    'C1': 'XS',\n",
    "    'C2': 'S',\n",
    "    'C3': 'M',\n",
    "    'C4': 'L',\n",
    "    'C5': 'XL',\n",
    "    'Small': 'S',\n",
    "    'Medium': 'M',\n",
    "    'Large': 'L',\n",
    "    'S 27,5\"': 'S',\n",
    "    'S 29\"': 'S',\n",
    "    'SM': 'S',\n",
    "    'MD': 'M',\n",
    "    'LG': 'L',\n",
    "    'S/M': 'S',  # round down for mix sizes\n",
    "    'M/L': 'M', \n",
    "    'L/XL': 'L', \n",
    "    'X-Large': 'XL',\n",
    "    'ML': 'M', \n",
    "    'XX-Large': 'XXL',\n",
    "    '16\"': 'XS',\n",
    "    '18\"': 'S',\n",
    "    '20\"': 'M',\n",
    "    '22\"': 'L',\n",
    "})"
   ]
  },
  {
   "cell_type": "code",
   "execution_count": null,
   "id": "6b753ba6",
   "metadata": {},
   "outputs": [
    {
     "data": {
      "text/plain": [
       "Frame Size\n",
       "M      639\n",
       "L      608\n",
       "S      546\n",
       "XL     541\n",
       "XS     106\n",
       "XXL    103\n",
       "Name: count, dtype: int64"
      ]
     },
     "execution_count": 185,
     "metadata": {},
     "output_type": "execute_result"
    }
   ],
   "source": [
    "# drop rows with unstandard sizes\n",
    "df = df[df['Frame Size'].isin(['XS', 'S', 'M', 'L', 'XL', 'XXL'])].reset_index(drop=True)\n",
    "df['Frame Size'].value_counts()"
   ]
  },
  {
   "cell_type": "code",
   "execution_count": 194,
   "id": "4ff700a6",
   "metadata": {},
   "outputs": [],
   "source": [
    "# now to create a new column for the discipline which generally corresponds to the suspension travel\n",
    "df['Suspension Travel (front)'].unique()\n",
    "\n",
    "# general guide for discipline based on travel: (from my own knowledge and experience as a mountain biker)\n",
    "# - XC: 100-120mm\n",
    "# - Trail: 130-150mm\n",
    "# - Enduro: 150-180mm\n",
    "# - DH: 190mm+\n",
    "\n",
    "for i in range(len(df)):\n",
    "    if df.loc[i, 'Suspension Travel (front)'] >= 190:\n",
    "        df.loc[i, 'Discipline'] = 'DH'\n",
    "    elif df.loc[i, 'Suspension Travel (front)'] >= 150:\n",
    "        df.loc[i, 'Discipline'] = 'Enduro'\n",
    "    elif df.loc[i, 'Suspension Travel (front)'] >= 130:\n",
    "        df.loc[i, 'Discipline'] = 'Trail'\n",
    "    else:\n",
    "        df.loc[i, 'Discipline'] = 'XC'"
   ]
  },
  {
   "cell_type": "code",
   "execution_count": 195,
   "id": "6c145133",
   "metadata": {},
   "outputs": [
    {
     "data": {
      "text/plain": [
       "1734"
      ]
     },
     "execution_count": 195,
     "metadata": {},
     "output_type": "execute_result"
    }
   ],
   "source": [
    "# drop all remaining rows with nans\n",
    "final_df = df.dropna()\n",
    "len(final_df)"
   ]
  },
  {
   "cell_type": "code",
   "execution_count": 196,
   "id": "f60ebc08",
   "metadata": {},
   "outputs": [],
   "source": [
    "# save to csv\n",
    "final_df.to_csv('../data/cleaned_data_3.csv', index=False)"
   ]
  }
 ],
 "metadata": {
  "kernelspec": {
   "display_name": "venv",
   "language": "python",
   "name": "python3"
  },
  "language_info": {
   "codemirror_mode": {
    "name": "ipython",
    "version": 3
   },
   "file_extension": ".py",
   "mimetype": "text/x-python",
   "name": "python",
   "nbconvert_exporter": "python",
   "pygments_lexer": "ipython3",
   "version": "3.10.12"
  }
 },
 "nbformat": 4,
 "nbformat_minor": 5
}
